{
 "cells": [
  {
   "cell_type": "markdown",
   "id": "8275d6bd",
   "metadata": {},
   "source": [
    "# Prepare hand annotations dataset\n",
    "The hand annotations data is reformatted to adapt it to the requirements of the code.\n",
    "\n",
    "- Rename columns\n",
    "- Remove exceeding annotations to create balance dataset\n",
    "\n",
    "NOTE: Creating a balanced dataset is not necessary since the code will balance the data if it is specified."
   ]
  },
  {
   "cell_type": "code",
   "execution_count": 1,
   "id": "84377a9f",
   "metadata": {},
   "outputs": [],
   "source": [
    "import os\n",
    "import random\n",
    "import pandas as pd"
   ]
  },
  {
   "cell_type": "code",
   "execution_count": 2,
   "id": "cdb938d0",
   "metadata": {},
   "outputs": [
    {
     "name": "stdout",
     "output_type": "stream",
     "text": [
      ""
     ]
    }
   ],
   "source": [
    "RES_DIR = '../res'\n",
    "\n",
    "%cd {RES_DIR}"
   ]
  },
  {
   "cell_type": "code",
   "execution_count": 3,
   "id": "9f629874",
   "metadata": {},
   "outputs": [],
   "source": [
    "REDUCE_BALANCED = False"
   ]
  },
  {
   "cell_type": "code",
   "execution_count": 4,
   "id": "15166746",
   "metadata": {},
   "outputs": [],
   "source": [
    "SRC_CSV = 'annotations/annotations_merged.csv'\n",
    "\n",
    "if REDUCE_BALANCED:\n",
    "    DST_CSV = 'annotations/annotations_merged_renamed_balanced.csv'\n",
    "else:\n",
    "    DST_CSV = 'annotations/annotations_merged_renamed.csv'"
   ]
  },
  {
   "cell_type": "markdown",
   "id": "692a612d",
   "metadata": {},
   "source": [
    "## Read csv"
   ]
  },
  {
   "cell_type": "code",
   "execution_count": 5,
   "id": "759811d5",
   "metadata": {},
   "outputs": [
    {
     "data": {
      "text/html": [
       "<div>\n",
       "<style scoped>\n",
       "    .dataframe tbody tr th:only-of-type {\n",
       "        vertical-align: middle;\n",
       "    }\n",
       "\n",
       "    .dataframe tbody tr th {\n",
       "        vertical-align: top;\n",
       "    }\n",
       "\n",
       "    .dataframe thead th {\n",
       "        text-align: right;\n",
       "    }\n",
       "</style>\n",
       "<table border=\"1\" class=\"dataframe\">\n",
       "  <thead>\n",
       "    <tr style=\"text-align: right;\">\n",
       "      <th></th>\n",
       "      <th>label</th>\n",
       "    </tr>\n",
       "    <tr>\n",
       "      <th>id</th>\n",
       "      <th></th>\n",
       "    </tr>\n",
       "  </thead>\n",
       "  <tbody>\n",
       "    <tr>\n",
       "      <th>192</th>\n",
       "      <td>old</td>\n",
       "    </tr>\n",
       "    <tr>\n",
       "      <th>241</th>\n",
       "      <td>old</td>\n",
       "    </tr>\n",
       "    <tr>\n",
       "      <th>294</th>\n",
       "      <td>old</td>\n",
       "    </tr>\n",
       "    <tr>\n",
       "      <th>328</th>\n",
       "      <td>young</td>\n",
       "    </tr>\n",
       "    <tr>\n",
       "      <th>338</th>\n",
       "      <td>old</td>\n",
       "    </tr>\n",
       "    <tr>\n",
       "      <th>...</th>\n",
       "      <td>...</td>\n",
       "    </tr>\n",
       "    <tr>\n",
       "      <th>580613</th>\n",
       "      <td>old</td>\n",
       "    </tr>\n",
       "    <tr>\n",
       "      <th>580847</th>\n",
       "      <td>young</td>\n",
       "    </tr>\n",
       "    <tr>\n",
       "      <th>581040</th>\n",
       "      <td>old</td>\n",
       "    </tr>\n",
       "    <tr>\n",
       "      <th>581496</th>\n",
       "      <td>old</td>\n",
       "    </tr>\n",
       "    <tr>\n",
       "      <th>581736</th>\n",
       "      <td>young</td>\n",
       "    </tr>\n",
       "  </tbody>\n",
       "</table>\n",
       "<p>7038 rows × 1 columns</p>\n",
       "</div>"
      ],
      "text/plain": [
       "        label\n",
       "id           \n",
       "192       old\n",
       "241       old\n",
       "294       old\n",
       "328     young\n",
       "338       old\n",
       "...       ...\n",
       "580613    old\n",
       "580847  young\n",
       "581040    old\n",
       "581496    old\n",
       "581736  young\n",
       "\n",
       "[7038 rows x 1 columns]"
      ]
     },
     "execution_count": 5,
     "metadata": {},
     "output_type": "execute_result"
    }
   ],
   "source": [
    "df = pd.read_csv(SRC_CSV, index_col='id')\n",
    "df"
   ]
  },
  {
   "cell_type": "markdown",
   "id": "8da920bb",
   "metadata": {},
   "source": [
    "## Reduce (optional) -> balanced ds"
   ]
  },
  {
   "cell_type": "code",
   "execution_count": 6,
   "id": "49758d06",
   "metadata": {},
   "outputs": [
    {
     "data": {
      "text/plain": [
       "old      4603\n",
       "young    2435\n",
       "Name: label, dtype: int64"
      ]
     },
     "execution_count": 6,
     "metadata": {},
     "output_type": "execute_result"
    }
   ],
   "source": [
    "df.label.value_counts()"
   ]
  },
  {
   "cell_type": "code",
   "execution_count": 7,
   "id": "cd4be44a",
   "metadata": {},
   "outputs": [
    {
     "name": "stdout",
     "output_type": "stream",
     "text": [
      "Int64Index([   192,    241,    294,    338,    395,    415,    459,    544,\n",
      "               564,    623,\n",
      "            ...\n",
      "            578545, 578861, 579226, 579231, 579240, 579362, 580248, 580613,\n",
      "            581040, 581496],\n",
      "           dtype='int64', name='id', length=4603)\n",
      "Int64Index([   328,    428,    474,    536,    589,    692,    693,    831,\n",
      "              1000,   1164,\n",
      "            ...\n",
      "            572510, 573179, 575964, 576045, 576566, 576629, 577403, 579438,\n",
      "            580847, 581736],\n",
      "           dtype='int64', name='id', length=2435)\n"
     ]
    }
   ],
   "source": [
    "old_idx = df[df.label == 'old'].index\n",
    "young_idx = df[df.label == 'young'].index\n",
    "print(old_idx)\n",
    "print(young_idx)"
   ]
  },
  {
   "cell_type": "code",
   "execution_count": 8,
   "id": "025d123b",
   "metadata": {},
   "outputs": [
    {
     "data": {
      "text/plain": [
       "Int64Index([   192,    241,    294,    338,    395,    415,    459,    544,\n",
       "               564,    623,\n",
       "            ...\n",
       "            578545, 578861, 579226, 579231, 579240, 579362, 580248, 580613,\n",
       "            581040, 581496],\n",
       "           dtype='int64', name='id', length=4603)"
      ]
     },
     "execution_count": 8,
     "metadata": {},
     "output_type": "execute_result"
    }
   ],
   "source": [
    "limiting_idx = young_idx if len(young_idx) < len(old_idx) else old_idx\n",
    "excess_idx = old_idx if len(young_idx) < len(old_idx) else young_idx\n",
    "excess_idx"
   ]
  },
  {
   "cell_type": "code",
   "execution_count": 9,
   "id": "cfa47eb1",
   "metadata": {},
   "outputs": [
    {
     "name": "stdout",
     "output_type": "stream",
     "text": [
      "limiting set size: 2435\n",
      "target balanced ds size: 4870\n"
     ]
    }
   ],
   "source": [
    "print('limiting set size:', len(limiting_idx))\n",
    "print('target balanced ds size:', len(limiting_idx)*2)"
   ]
  },
  {
   "cell_type": "code",
   "execution_count": 10,
   "id": "12950161",
   "metadata": {},
   "outputs": [
    {
     "data": {
      "text/plain": [
       "Int64Index([   192,    241,    294,    338,    395,    415,    459,    544,\n",
       "               564,    623,\n",
       "            ...\n",
       "            254994, 255274, 255315, 255322, 255627, 255649, 255662, 255863,\n",
       "            256031, 256067],\n",
       "           dtype='int64', name='id', length=2435)"
      ]
     },
     "execution_count": 10,
     "metadata": {},
     "output_type": "execute_result"
    }
   ],
   "source": [
    "reduced_idx = excess_idx[0:len(limiting_idx)]\n",
    "reduced_idx"
   ]
  },
  {
   "cell_type": "code",
   "execution_count": 11,
   "id": "57ca295a",
   "metadata": {},
   "outputs": [
    {
     "data": {
      "text/html": [
       "<div>\n",
       "<style scoped>\n",
       "    .dataframe tbody tr th:only-of-type {\n",
       "        vertical-align: middle;\n",
       "    }\n",
       "\n",
       "    .dataframe tbody tr th {\n",
       "        vertical-align: top;\n",
       "    }\n",
       "\n",
       "    .dataframe thead th {\n",
       "        text-align: right;\n",
       "    }\n",
       "</style>\n",
       "<table border=\"1\" class=\"dataframe\">\n",
       "  <thead>\n",
       "    <tr style=\"text-align: right;\">\n",
       "      <th></th>\n",
       "      <th>label</th>\n",
       "    </tr>\n",
       "    <tr>\n",
       "      <th>id</th>\n",
       "      <th></th>\n",
       "    </tr>\n",
       "  </thead>\n",
       "  <tbody>\n",
       "    <tr>\n",
       "      <th>192</th>\n",
       "      <td>old</td>\n",
       "    </tr>\n",
       "    <tr>\n",
       "      <th>241</th>\n",
       "      <td>old</td>\n",
       "    </tr>\n",
       "    <tr>\n",
       "      <th>294</th>\n",
       "      <td>old</td>\n",
       "    </tr>\n",
       "    <tr>\n",
       "      <th>328</th>\n",
       "      <td>young</td>\n",
       "    </tr>\n",
       "    <tr>\n",
       "      <th>338</th>\n",
       "      <td>old</td>\n",
       "    </tr>\n",
       "    <tr>\n",
       "      <th>...</th>\n",
       "      <td>...</td>\n",
       "    </tr>\n",
       "    <tr>\n",
       "      <th>576629</th>\n",
       "      <td>young</td>\n",
       "    </tr>\n",
       "    <tr>\n",
       "      <th>577403</th>\n",
       "      <td>young</td>\n",
       "    </tr>\n",
       "    <tr>\n",
       "      <th>579438</th>\n",
       "      <td>young</td>\n",
       "    </tr>\n",
       "    <tr>\n",
       "      <th>580847</th>\n",
       "      <td>young</td>\n",
       "    </tr>\n",
       "    <tr>\n",
       "      <th>581736</th>\n",
       "      <td>young</td>\n",
       "    </tr>\n",
       "  </tbody>\n",
       "</table>\n",
       "<p>4870 rows × 1 columns</p>\n",
       "</div>"
      ],
      "text/plain": [
       "        label\n",
       "id           \n",
       "192       old\n",
       "241       old\n",
       "294       old\n",
       "328     young\n",
       "338       old\n",
       "...       ...\n",
       "576629  young\n",
       "577403  young\n",
       "579438  young\n",
       "580847  young\n",
       "581736  young\n",
       "\n",
       "[4870 rows x 1 columns]"
      ]
     },
     "execution_count": 11,
     "metadata": {},
     "output_type": "execute_result"
    }
   ],
   "source": [
    "df_balanced = df.loc[limiting_idx.union(reduced_idx)]\n",
    "df_balanced"
   ]
  },
  {
   "cell_type": "code",
   "execution_count": 12,
   "id": "b43337e5",
   "metadata": {},
   "outputs": [
    {
     "data": {
      "text/plain": [
       "7038"
      ]
     },
     "execution_count": 12,
     "metadata": {},
     "output_type": "execute_result"
    }
   ],
   "source": [
    "df2 = df_balanced if REDUCE_BALANCED else df\n",
    "len(df2)"
   ]
  },
  {
   "cell_type": "markdown",
   "id": "5e0e4f3f",
   "metadata": {},
   "source": [
    "# Rename columns"
   ]
  },
  {
   "cell_type": "code",
   "execution_count": 13,
   "id": "45eb20b9",
   "metadata": {},
   "outputs": [
    {
     "data": {
      "text/html": [
       "<div>\n",
       "<style scoped>\n",
       "    .dataframe tbody tr th:only-of-type {\n",
       "        vertical-align: middle;\n",
       "    }\n",
       "\n",
       "    .dataframe tbody tr th {\n",
       "        vertical-align: top;\n",
       "    }\n",
       "\n",
       "    .dataframe thead th {\n",
       "        text-align: right;\n",
       "    }\n",
       "</style>\n",
       "<table border=\"1\" class=\"dataframe\">\n",
       "  <thead>\n",
       "    <tr style=\"text-align: right;\">\n",
       "      <th></th>\n",
       "      <th>bb_age</th>\n",
       "    </tr>\n",
       "    <tr>\n",
       "      <th>img_id</th>\n",
       "      <th></th>\n",
       "    </tr>\n",
       "  </thead>\n",
       "  <tbody>\n",
       "    <tr>\n",
       "      <th>192</th>\n",
       "      <td>old</td>\n",
       "    </tr>\n",
       "    <tr>\n",
       "      <th>241</th>\n",
       "      <td>old</td>\n",
       "    </tr>\n",
       "    <tr>\n",
       "      <th>294</th>\n",
       "      <td>old</td>\n",
       "    </tr>\n",
       "    <tr>\n",
       "      <th>328</th>\n",
       "      <td>young</td>\n",
       "    </tr>\n",
       "    <tr>\n",
       "      <th>338</th>\n",
       "      <td>old</td>\n",
       "    </tr>\n",
       "    <tr>\n",
       "      <th>...</th>\n",
       "      <td>...</td>\n",
       "    </tr>\n",
       "    <tr>\n",
       "      <th>580613</th>\n",
       "      <td>old</td>\n",
       "    </tr>\n",
       "    <tr>\n",
       "      <th>580847</th>\n",
       "      <td>young</td>\n",
       "    </tr>\n",
       "    <tr>\n",
       "      <th>581040</th>\n",
       "      <td>old</td>\n",
       "    </tr>\n",
       "    <tr>\n",
       "      <th>581496</th>\n",
       "      <td>old</td>\n",
       "    </tr>\n",
       "    <tr>\n",
       "      <th>581736</th>\n",
       "      <td>young</td>\n",
       "    </tr>\n",
       "  </tbody>\n",
       "</table>\n",
       "<p>7038 rows × 1 columns</p>\n",
       "</div>"
      ],
      "text/plain": [
       "       bb_age\n",
       "img_id       \n",
       "192       old\n",
       "241       old\n",
       "294       old\n",
       "328     young\n",
       "338       old\n",
       "...       ...\n",
       "580613    old\n",
       "580847  young\n",
       "581040    old\n",
       "581496    old\n",
       "581736  young\n",
       "\n",
       "[7038 rows x 1 columns]"
      ]
     },
     "execution_count": 13,
     "metadata": {},
     "output_type": "execute_result"
    }
   ],
   "source": [
    "df_rn = df2.rename(columns={'label': 'bb_age'})\n",
    "df_rn.index.name = 'img_id'\n",
    "df_rn"
   ]
  },
  {
   "cell_type": "markdown",
   "id": "063f4d14",
   "metadata": {},
   "source": [
    "## Save csv"
   ]
  },
  {
   "cell_type": "code",
   "execution_count": 14,
   "id": "d5972109",
   "metadata": {},
   "outputs": [
    {
     "name": "stdout",
     "output_type": "stream",
     "text": [
      "A csv file already exists. Overwrite? [y]/n: y\n",
      "Saved at annotations/annotations_merged_renamed.csv\n"
     ]
    }
   ],
   "source": [
    "overwrite = True\n",
    "\n",
    "if os.path.exists(DST_CSV):\n",
    "    while True:\n",
    "        ans = str(input('A csv file already exists. Overwrite? [y]/n: ')).lower()\n",
    "        if ans == 'y' or ans == 'yes':\n",
    "            overwrite = True\n",
    "            break\n",
    "        elif ans == 'n' or ans == 'no':\n",
    "            overwrite = False\n",
    "            break\n",
    "\n",
    "if overwrite:\n",
    "    if not os.path.exists(os.path.dirname(DST_CSV)):\n",
    "        os.makedirs(os.path.dirname(DST_CSV))\n",
    "    df_rn.to_csv(DST_CSV, index_label='img_id')\n",
    "    print(f'Saved at {DST_CSV}')"
   ]
  },
  {
   "cell_type": "code",
   "execution_count": null,
   "id": "150c4d65",
   "metadata": {},
   "outputs": [],
   "source": []
  }
 ],
 "metadata": {
  "kernelspec": {
   "display_name": "Python 3 (ipykernel)",
   "language": "python",
   "name": "python3"
  },
  "language_info": {
   "codemirror_mode": {
    "name": "ipython",
    "version": 3
   },
   "file_extension": ".py",
   "mimetype": "text/x-python",
   "name": "python",
   "nbconvert_exporter": "python",
   "pygments_lexer": "ipython3",
   "version": "3.7.13"
  }
 },
 "nbformat": 4,
 "nbformat_minor": 5
}
