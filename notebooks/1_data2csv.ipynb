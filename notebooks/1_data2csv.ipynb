{
 "cells": [
  {
   "cell_type": "markdown",
   "id": "70f1b3f6",
   "metadata": {},
   "source": [
    "# Visualize data\n",
    "This notebooks transforms data pickle files to csv for better visualization of the data structure."
   ]
  },
  {
   "cell_type": "code",
   "execution_count": 1,
   "id": "b6c9ac9d",
   "metadata": {},
   "outputs": [],
   "source": [
    "import sys\n",
    "import os\n",
    "import re\n",
    "import pickle as pkl\n",
    "import pandas as pd"
   ]
  },
  {
   "cell_type": "code",
   "execution_count": 2,
   "id": "d1398d3e",
   "metadata": {},
   "outputs": [
    {
     "name": "stdout",
     "output_type": "stream",
     "text": [
      ""
     ]
    }
   ],
   "source": [
    "DATA_DIR='../data/bias_data'\n",
    "%cd {DATA_DIR}"
   ]
  },
  {
   "cell_type": "code",
   "execution_count": 3,
   "id": "07877241",
   "metadata": {},
   "outputs": [],
   "source": [
    "def get_file():\n",
    "    for dir_ in os.listdir('.'):\n",
    "        if not os.path.isdir(dir_) or dir_ == 'model_vocab':\n",
    "            continue\n",
    "        for file in os.listdir(dir_):\n",
    "            if re.match(r'^.*\\.pkl$', file):\n",
    "                yield os.path.join(dir_, file)"
   ]
  },
  {
   "cell_type": "code",
   "execution_count": 4,
   "id": "14f41c21",
   "metadata": {},
   "outputs": [],
   "source": [
    "def load_df(path):\n",
    "    with open(path, \"rb\") as f:\n",
    "        obj = pkl.load(f)\n",
    "\n",
    "    df = pd.DataFrame(obj)\n",
    "    #df.to_csv(r'file.csv')\n",
    "    return df"
   ]
  },
  {
   "cell_type": "markdown",
   "id": "b84040bf",
   "metadata": {},
   "source": [
    "## Show example dataset\n",
    "Here we show an example of the model captions.\n",
    "\n",
    "Each row of the data corresponds to an image in the COCO dataset. It contains the id of the image (`img_id`), the caption produced by the model (`pred`), and the ground truth annotations of the protected attributes gender and race (`bb_gender` and `bb_skin`, respectively)."
   ]
  },
  {
   "cell_type": "code",
   "execution_count": 5,
   "id": "1d59ca46",
   "metadata": {},
   "outputs": [
    {
     "data": {
      "text/html": [
       "<div>\n",
       "<style scoped>\n",
       "    .dataframe tbody tr th:only-of-type {\n",
       "        vertical-align: middle;\n",
       "    }\n",
       "\n",
       "    .dataframe tbody tr th {\n",
       "        vertical-align: top;\n",
       "    }\n",
       "\n",
       "    .dataframe thead th {\n",
       "        text-align: right;\n",
       "    }\n",
       "</style>\n",
       "<table border=\"1\" class=\"dataframe\">\n",
       "  <thead>\n",
       "    <tr style=\"text-align: right;\">\n",
       "      <th></th>\n",
       "      <th>img_id</th>\n",
       "      <th>pred</th>\n",
       "      <th>bb_gender</th>\n",
       "      <th>ratio</th>\n",
       "      <th>bb_skin</th>\n",
       "      <th>race</th>\n",
       "      <th>split</th>\n",
       "    </tr>\n",
       "  </thead>\n",
       "  <tbody>\n",
       "    <tr>\n",
       "      <th>0</th>\n",
       "      <td>11340</td>\n",
       "      <td>an elephant is walking through a village .</td>\n",
       "      <td>Male</td>\n",
       "      <td>[0.02577024647887324]</td>\n",
       "      <td>Dark</td>\n",
       "      <td>['Dark']</td>\n",
       "      <td>train</td>\n",
       "    </tr>\n",
       "    <tr>\n",
       "      <th>1</th>\n",
       "      <td>149783</td>\n",
       "      <td>a man sitting at a table with a laptop .</td>\n",
       "      <td>Female</td>\n",
       "      <td>[0.18625651041666666, 0.043430989583333336, 0....</td>\n",
       "      <td>Light</td>\n",
       "      <td>['Light', 'Light', nan]</td>\n",
       "      <td>train</td>\n",
       "    </tr>\n",
       "    <tr>\n",
       "      <th>2</th>\n",
       "      <td>249953</td>\n",
       "      <td>a man riding a surfboard on top of a wave .</td>\n",
       "      <td>Male</td>\n",
       "      <td>[0.036435158079625295]</td>\n",
       "      <td></td>\n",
       "      <td>[nan]</td>\n",
       "      <td>train</td>\n",
       "    </tr>\n",
       "    <tr>\n",
       "      <th>3</th>\n",
       "      <td>465566</td>\n",
       "      <td>a man standing next to a train on a train pla...</td>\n",
       "      <td>Male</td>\n",
       "      <td>[0.08640625]</td>\n",
       "      <td>Light</td>\n",
       "      <td>['Light']</td>\n",
       "      <td>train</td>\n",
       "    </tr>\n",
       "    <tr>\n",
       "      <th>4</th>\n",
       "      <td>229653</td>\n",
       "      <td>a man is sitting on a couch with a laptop .</td>\n",
       "      <td>Female</td>\n",
       "      <td>[0.1023125]</td>\n",
       "      <td>Light</td>\n",
       "      <td>['Light']</td>\n",
       "      <td>train</td>\n",
       "    </tr>\n",
       "    <tr>\n",
       "      <th>...</th>\n",
       "      <td>...</td>\n",
       "      <td>...</td>\n",
       "      <td>...</td>\n",
       "      <td>...</td>\n",
       "      <td>...</td>\n",
       "      <td>...</td>\n",
       "      <td>...</td>\n",
       "    </tr>\n",
       "    <tr>\n",
       "      <th>10775</th>\n",
       "      <td>872</td>\n",
       "      <td>a baseball player swinging a bat at a ball</td>\n",
       "      <td>Male</td>\n",
       "      <td>[0.335958465, 0.321149044]</td>\n",
       "      <td>Light</td>\n",
       "      <td>['Light', 'Light']</td>\n",
       "      <td>val</td>\n",
       "    </tr>\n",
       "    <tr>\n",
       "      <th>10776</th>\n",
       "      <td>375812</td>\n",
       "      <td>a young boy in a green shirt and a red frisbee</td>\n",
       "      <td>Male</td>\n",
       "      <td>[0.19226271881838075]</td>\n",
       "      <td>Light</td>\n",
       "      <td>['Light']</td>\n",
       "      <td>train</td>\n",
       "    </tr>\n",
       "    <tr>\n",
       "      <th>10777</th>\n",
       "      <td>227801</td>\n",
       "      <td>a man is holding a teddy bear in a basket .</td>\n",
       "      <td>Male</td>\n",
       "      <td>[0.03427637771502655]</td>\n",
       "      <td>Dark</td>\n",
       "      <td>['Dark']</td>\n",
       "      <td>train</td>\n",
       "    </tr>\n",
       "    <tr>\n",
       "      <th>10778</th>\n",
       "      <td>360208</td>\n",
       "      <td>a woman is holding a glass of wine .</td>\n",
       "      <td>Female</td>\n",
       "      <td>[0.020179036458333334, 0.3531575520833333]</td>\n",
       "      <td>Light</td>\n",
       "      <td>['Unsure', 'Light']</td>\n",
       "      <td>train</td>\n",
       "    </tr>\n",
       "    <tr>\n",
       "      <th>10779</th>\n",
       "      <td>530820</td>\n",
       "      <td>a man holding a tennis racquet on a tennis co...</td>\n",
       "      <td>Male</td>\n",
       "      <td>[0.29559789399999997]</td>\n",
       "      <td>Light</td>\n",
       "      <td>['Light']</td>\n",
       "      <td>val</td>\n",
       "    </tr>\n",
       "  </tbody>\n",
       "</table>\n",
       "<p>10780 rows × 7 columns</p>\n",
       "</div>"
      ],
      "text/plain": [
       "       img_id                                               pred bb_gender  \\\n",
       "0       11340         an elephant is walking through a village .      Male   \n",
       "1      149783           a man sitting at a table with a laptop .    Female   \n",
       "2      249953        a man riding a surfboard on top of a wave .      Male   \n",
       "3      465566   a man standing next to a train on a train pla...      Male   \n",
       "4      229653        a man is sitting on a couch with a laptop .    Female   \n",
       "...       ...                                                ...       ...   \n",
       "10775     872         a baseball player swinging a bat at a ball      Male   \n",
       "10776  375812     a young boy in a green shirt and a red frisbee      Male   \n",
       "10777  227801        a man is holding a teddy bear in a basket .      Male   \n",
       "10778  360208               a woman is holding a glass of wine .    Female   \n",
       "10779  530820   a man holding a tennis racquet on a tennis co...      Male   \n",
       "\n",
       "                                                   ratio bb_skin  \\\n",
       "0                                  [0.02577024647887324]    Dark   \n",
       "1      [0.18625651041666666, 0.043430989583333336, 0....   Light   \n",
       "2                                 [0.036435158079625295]           \n",
       "3                                           [0.08640625]   Light   \n",
       "4                                            [0.1023125]   Light   \n",
       "...                                                  ...     ...   \n",
       "10775                         [0.335958465, 0.321149044]   Light   \n",
       "10776                              [0.19226271881838075]   Light   \n",
       "10777                              [0.03427637771502655]    Dark   \n",
       "10778         [0.020179036458333334, 0.3531575520833333]   Light   \n",
       "10779                              [0.29559789399999997]   Light   \n",
       "\n",
       "                          race  split  \n",
       "0                     ['Dark']  train  \n",
       "1      ['Light', 'Light', nan]  train  \n",
       "2                        [nan]  train  \n",
       "3                    ['Light']  train  \n",
       "4                    ['Light']  train  \n",
       "...                        ...    ...  \n",
       "10775       ['Light', 'Light']    val  \n",
       "10776                ['Light']  train  \n",
       "10777                 ['Dark']  train  \n",
       "10778      ['Unsure', 'Light']  train  \n",
       "10779                ['Light']    val  \n",
       "\n",
       "[10780 rows x 7 columns]"
      ]
     },
     "execution_count": 5,
     "metadata": {},
     "output_type": "execute_result"
    }
   ],
   "source": [
    "df = load_df('Show-Tell/gender_val_st10_cap_mw_entries.pkl')\n",
    "df"
   ]
  },
  {
   "cell_type": "code",
   "execution_count": 6,
   "id": "1e39cfe0",
   "metadata": {},
   "outputs": [
    {
     "data": {
      "text/plain": [
       "Index(['img_id', 'pred', 'bb_gender', 'ratio', 'bb_skin', 'race', 'split'], dtype='object')"
      ]
     },
     "execution_count": 6,
     "metadata": {},
     "output_type": "execute_result"
    }
   ],
   "source": [
    "df.columns"
   ]
  },
  {
   "cell_type": "markdown",
   "id": "aa220590",
   "metadata": {},
   "source": [
    "## Make a copy of the data in csv format"
   ]
  },
  {
   "cell_type": "code",
   "execution_count": 7,
   "id": "04fdcc71",
   "metadata": {},
   "outputs": [
    {
     "name": "stdout",
     "output_type": "stream",
     "text": [
      "Show-Tell/gender_val_st10_cap_mw_entries.pkl\n",
      "Show-Tell/gender_val_st10_th10_cap_mw_entries.pkl\n",
      "Show-Tell/gender_val_st10_th5_cap_mw_entries.pkl\n",
      "Show-Tell/gender_val_st10_th2_cap_mw_entries.pkl\n",
      "Show-Tell/race_val_st10_cap_entries.pkl\n",
      "Show-Attend-Tell/gender_val_sat_masked_seg_obj_cap_mw_entries.pkl\n",
      "Show-Attend-Tell/gender_val_sat_masked_obj_cap_mw_entries.pkl\n",
      "Show-Attend-Tell/gender_val_sat_cap_mw_entries.pkl\n",
      "Show-Attend-Tell/gender_val_sat_masked_both_cap_mw_entries.pkl\n",
      "Show-Attend-Tell/race_val_sat_cap_entries.pkl\n",
      "Show-Attend-Tell/gender_val_sat_masked_seg_person_cap_mw_entries.pkl\n",
      "Show-Attend-Tell/gender_val_sat_masked_person_cap_mw_entries.pkl\n",
      "Show-Attend-Tell/gender_val_sat_masked_seg_both_cap_mw_entries.pkl\n",
      "Transformer/race_val_transformer_cap_entries.pkl\n",
      "Transformer/gender_val_transformer_cap_mw_entries.pkl\n",
      "Human_Ann/gender_obj_cap_mw_entries.pkl\n",
      "Human_Ann/race_val_obj_cap_entries.pkl\n",
      "Oscar/race_val_oscar_cap_entries.pkl\n",
      "Oscar/gender_val_oscar_cap_mw_entries.pkl\n",
      "Oscar/gender_val_cider_oscar_masked_person_cap_mw_entries.pkl\n",
      "Oscar/gender_val_cider_oscar_masked_both_cap_mw_entries.pkl\n",
      "Oscar/race_val_cider_oscar_cap_entries.pkl\n",
      "Oscar/gender_val_cider_oscar_cap_mw_entries.pkl\n",
      "Oscar/gender_val_cider_oscar_masked_obj_cap_mw_entries.pkl\n",
      "Woman-Snowboard/gender_val_snowboard_cap_mw_entries.pkl\n",
      "Woman-Snowboard/gender_val_baselineft_cap_mw_entries.pkl\n",
      "Woman-Snowboard/race_val_baselineft_cap_entries.pkl\n",
      "Woman-Snowboard/race_val_snowboard_cap_entries.pkl\n",
      "Att2in_FC/race_val_fc_cap_entries.pkl\n",
      "Att2in_FC/gender_val_att2in_cap_mw_entries.pkl\n",
      "Att2in_FC/gender_val_fc_cap_mw_entries.pkl\n",
      "Att2in_FC/race_val_att2in_cap_entries.pkl\n",
      "UpDn/gender_val_updn_cap_mw_entries.pkl\n",
      "UpDn/race_val_updn_cap_entries.pkl\n"
     ]
    }
   ],
   "source": [
    "for src in get_file():\n",
    "    print(src)\n",
    "    df = load_df(src)\n",
    "    dst = src.replace('.pkl', '.csv')\n",
    "    df.to_csv(dst)"
   ]
  },
  {
   "cell_type": "markdown",
   "id": "7184327d",
   "metadata": {},
   "source": [
    "## Show example vocabulary\n",
    "Here we show an example of the vocabulary used for a model."
   ]
  },
  {
   "cell_type": "code",
   "execution_count": 8,
   "id": "05f618c6",
   "metadata": {},
   "outputs": [
    {
     "name": "stdout",
     "output_type": "stream",
     "text": [
      "['<unk>', '<pad>', 'a', 'genderword', 'on', 'with', 'of', 'in', 'standing', 'sitting', 'group', 'people', 'holding', 'table', 'at', 'tennis', 'street', 'field', 'court', 'riding', 'ball', 'the', 'cell', 'phone', 'room', 'to', 'baseball', 'next', 'down', 'skateboard', 'playing', 'little', 'kitchen', 'bat', 'frisbee', 'front', 'player', 'food', 'young', 'snow', 'dog', 'game', 'video', 'racket', 'and', 'surfboard', 'cake', 'an', 'bench', 'umbrella', 'eating', 'beach', 'bed', 'skis', 'living', 'laptop', 'tie', 'doing', 'trick', 'horse', 'couch', 'couple', 'suit', 'pizza', 'computer', 'wave', 'wearing', 'plate', 'motorcycle', 'walking', 'ramp', 'talking', 'water', 'top', 'hot', 'ocean', 'kite', 'laying', 'covered', 'slope', 'swinging', 'bathroom', 'teddy', 'wine', 'bear', 'bunch', 'soccer', 'brushing', 'preparing', 'bus', 'teeth', 'flying', 'mirror', 'glass', 'cat', 'refrigerator', 'bike', 'luggage', 'side', 'boat', 'bicycle', 'train', 'truck', 'giraffe', 'slice', 'book', 'umbrellas', 'bananas', 'park', 'person', 'snowboard', 'elephant', 'car', 'children', 'toothbrush', 'throwing', 'black', 'controller', 'fire', 'banana', 'building', 'hand', 'suitcase', 'surfboards', 'white', 'parked', 'hydrant', 'each', 'other', 'toilet', 'baby', 'cow', 'market', 'motorcycles', 'is', 'photo', 'horses', 'desk', 'fence', 'sheep', 'laptops', 'road', 'clock', 'glasses', 'players', 'cutting', 'hat', 'sign', 'sink', 'stop', 'their', 'donut', 'bowl', 'stove', 'city', 'donuts', 'oven', 'piece', 'sky', 'television', 'carriage', 'red', 'station', 'remote', 'bride', 'drawn', 'fruits', 'groom', 'plane', 'wedding', 'bird', 'birthday', 'fruit', 'light', 'traffic', 'are', 'doughnut', 'pair', 'parking', 'scissors', 'window', 'box', 'dirt', 'dogs', 'meter', 'vegetables', 'control', 'herd', 'microwave', 'sandwich', 'airport', 'counter', 'tracks', 'bikes', 'air', 'bears', 'cows', 'display', 'driving', 'elephants', 'giraffes', 'grass', 'kites', 'case', 'chair', 'crowd', 'decker', 'double', 'through', 'tower', 'back', 'plates', 'skiing', 'tree', 'wall', 'airplane', 'body', 'filled', 'flowers', 'glove', 'keyboard', 'lots', 'officer', 'police', 'stuffed', 'vase', 'zebra', 'birds', 'blender', 'board', 'bun', 'buses', 'cats', 'hair', 'pan', 'pulling', 'rackets', 'rear', 'runway', 'skateboards', 'tv', 'vases', 'view', 'background', 'bedroom', 'broccoli', 'brown', 'catch', 'chairs', 'coffee', 'computers', 'cup', 'floor', 'garden', 'its', 'jumping', 'lot', 'mouth', 'oranges', 'over', 'pizzas', 'polar', 'school', 'statue', 'store', 'tables', 'team', 'variety', 'zebras']\n"
     ]
    }
   ],
   "source": [
    "path = 'model_vocab/fc_vocab.pkl'\n",
    "with open(path, \"rb\") as f:\n",
    "    obj = pkl.load(f)\n",
    "print(obj)"
   ]
  },
  {
   "cell_type": "code",
   "execution_count": null,
   "id": "ceefb368",
   "metadata": {},
   "outputs": [],
   "source": []
  }
 ],
 "metadata": {
  "kernelspec": {
   "display_name": "Python 3 (ipykernel)",
   "language": "python",
   "name": "python3"
  },
  "language_info": {
   "codemirror_mode": {
    "name": "ipython",
    "version": 3
   },
   "file_extension": ".py",
   "mimetype": "text/x-python",
   "name": "python",
   "nbconvert_exporter": "python",
   "pygments_lexer": "ipython3",
   "version": "3.7.13"
  }
 },
 "nbformat": 4,
 "nbformat_minor": 5
}
