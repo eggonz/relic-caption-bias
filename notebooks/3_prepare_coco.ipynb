{
 "cells": [
  {
   "cell_type": "markdown",
   "id": "e6841419",
   "metadata": {},
   "source": [
    "# Prepare COCO\n",
    "The COCO dataset contains separate train, test and validation sets. The images have unique IDs.\n",
    "\n",
    "This notebook combines and renames the images in the different datasets to the format `<img_id>.jpg`.\n",
    "\n",
    "Then, a reduced version of COCO is created containing only the images that are relevant for the task."
   ]
  },
  {
   "cell_type": "code",
   "execution_count": 1,
   "id": "e8a87a25",
   "metadata": {},
   "outputs": [],
   "source": [
    "import os\n",
    "import shutil\n",
    "from tqdm import tqdm\n",
    "import pandas as pd"
   ]
  },
  {
   "cell_type": "markdown",
   "id": "5d36842c",
   "metadata": {},
   "source": [
    "The dataset folders `train2014`, `test2014` and `valid2014` must be [downloaded](https://cocodataset.org/#download), extracted from zipped file and placed in `res/mscoco/`."
   ]
  },
  {
   "cell_type": "code",
   "execution_count": 2,
   "id": "a78335d4",
   "metadata": {},
   "outputs": [
    {
     "name": "stdout",
     "output_type": "stream",
     "text": [
      ""
     ]
    },
    {
     "data": {
      "text/plain": [
       "['2022-Hirota-CVPR.pdf',\n",
       " 'IntersectionSAT-OSCAR-NICPL-NICEQ.csv',\n",
       " 'reduced_coco_10780',\n",
       " 'annotations',\n",
       " 'mscoco',\n",
       " 'merged_coco']"
      ]
     },
     "execution_count": 2,
     "metadata": {},
     "output_type": "execute_result"
    }
   ],
   "source": [
    "RES_DIR = '../res'\n",
    "\n",
    "%cd {RES_DIR}\n",
    "os.listdir()"
   ]
  },
  {
   "cell_type": "code",
   "execution_count": 3,
   "id": "24dc44d2",
   "metadata": {},
   "outputs": [],
   "source": [
    "datasets = ['train2014', 'val2014', 'test2014']"
   ]
  },
  {
   "cell_type": "code",
   "execution_count": 4,
   "id": "89232913",
   "metadata": {},
   "outputs": [
    {
     "name": "stdout",
     "output_type": "stream",
     "text": [
      "val2014 1 1\n",
      "total 1 1\n"
     ]
    }
   ],
   "source": [
    "idss = []\n",
    "for ds in datasets:\n",
    "    ids = []\n",
    "    ds_path = os.path.join('mscoco', ds)\n",
    "    if not os.path.exists(ds_path):\n",
    "        continue\n",
    "    for filename in os.listdir(ds_path):\n",
    "        id_ = int(filename.rsplit('_', maxsplit=1)[1].split('.')[0])\n",
    "        ids.append(id_)\n",
    "    print(ds, len(os.listdir(ds_path)), len(set(ids)))\n",
    "    idss.extend(ids)\n",
    "print('total', len(idss), len(set(idss)))"
   ]
  },
  {
   "cell_type": "markdown",
   "id": "d26a7793",
   "metadata": {},
   "source": [
    "## Merge datasets in a single folder\n",
    "Files can be moved or copied."
   ]
  },
  {
   "cell_type": "code",
   "execution_count": 5,
   "id": "94eb5191",
   "metadata": {},
   "outputs": [],
   "source": [
    "dst_dir = 'merged_coco'\n",
    "if not os.path.exists(dst_dir):\n",
    "    os.makedirs(dst_dir)"
   ]
  },
  {
   "cell_type": "code",
   "execution_count": 6,
   "id": "b005b5ac",
   "metadata": {},
   "outputs": [
    {
     "name": "stderr",
     "output_type": "stream",
     "text": [
      "val2014: 100%|██████████████████████████████████| 1/1 [00:00<00:00, 5363.56it/s]\n"
     ]
    }
   ],
   "source": [
    "for ds in datasets:\n",
    "    ds_path = os.path.join('mscoco', ds)\n",
    "    if not os.path.exists(ds_path):\n",
    "        continue\n",
    "    for src_file in tqdm(os.listdir(ds_path), desc=ds):\n",
    "        dst_file = src_file.rsplit('_', maxsplit=1)[1]\n",
    "        src = os.path.join(ds_path, src_file)\n",
    "        dst = os.path.join(dst_dir, dst_file)\n",
    "        \n",
    "        shutil.copyfile(src, dst)  # copy if you want to keep the previous dataset\n",
    "        # shutil.move(src, dst)  # move to save space"
   ]
  },
  {
   "cell_type": "code",
   "execution_count": 7,
   "id": "7fa78342",
   "metadata": {},
   "outputs": [
    {
     "name": "stdout",
     "output_type": "stream",
     "text": [
      "merged_coco 1\n"
     ]
    }
   ],
   "source": [
    "print(dst_dir, len(os.listdir(dst_dir)))"
   ]
  },
  {
   "cell_type": "markdown",
   "id": "c80e1248",
   "metadata": {},
   "source": [
    "### Remove previous dataset folders"
   ]
  },
  {
   "cell_type": "code",
   "execution_count": 8,
   "id": "5dad76b1",
   "metadata": {},
   "outputs": [],
   "source": [
    "# for ds in datasets:\n",
    "#     shutil.rmtree(ds)"
   ]
  },
  {
   "cell_type": "markdown",
   "id": "c74de1d6",
   "metadata": {},
   "source": [
    "## Reduce the COCO dataset for our task\n",
    "We will just need the images for which we have annotations. We can create a reduced COCO dataset only keeping those images."
   ]
  },
  {
   "cell_type": "code",
   "execution_count": 9,
   "id": "0788767c",
   "metadata": {},
   "outputs": [
    {
     "data": {
      "text/html": [
       "<div>\n",
       "<style scoped>\n",
       "    .dataframe tbody tr th:only-of-type {\n",
       "        vertical-align: middle;\n",
       "    }\n",
       "\n",
       "    .dataframe tbody tr th {\n",
       "        vertical-align: top;\n",
       "    }\n",
       "\n",
       "    .dataframe thead th {\n",
       "        text-align: right;\n",
       "    }\n",
       "</style>\n",
       "<table border=\"1\" class=\"dataframe\">\n",
       "  <thead>\n",
       "    <tr style=\"text-align: right;\">\n",
       "      <th></th>\n",
       "      <th>caption_list</th>\n",
       "      <th>pred_oscar</th>\n",
       "      <th>pred_sat</th>\n",
       "      <th>pred_nicplus</th>\n",
       "      <th>pred_niceq</th>\n",
       "    </tr>\n",
       "    <tr>\n",
       "      <th>img_id</th>\n",
       "      <th></th>\n",
       "      <th></th>\n",
       "      <th></th>\n",
       "      <th></th>\n",
       "      <th></th>\n",
       "    </tr>\n",
       "  </thead>\n",
       "  <tbody>\n",
       "    <tr>\n",
       "      <th>192</th>\n",
       "      <td>['A group of baseball players is crowded at th...</td>\n",
       "      <td>a baseball player holding a bat on top of a fi...</td>\n",
       "      <td>a batter catcher and umpire during a baseball ...</td>\n",
       "      <td>a baseball player holding a bat on top of a fi...</td>\n",
       "      <td>a baseball player holding a bat on a field.</td>\n",
       "    </tr>\n",
       "    <tr>\n",
       "      <th>241</th>\n",
       "      <td>['a man standing holding a game controller and...</td>\n",
       "      <td>a man standing in a living room holding a nint...</td>\n",
       "      <td>a couple of people that are playing a video game</td>\n",
       "      <td>a group of people playing a game with nintendo...</td>\n",
       "      <td>a group of people playing a video game.</td>\n",
       "    </tr>\n",
       "    <tr>\n",
       "      <th>294</th>\n",
       "      <td>['A man standing in front of a microwave next ...</td>\n",
       "      <td>a man standing in front of a bunch of pots and...</td>\n",
       "      <td>a woman is pouring wine into a wine glass</td>\n",
       "      <td>a woman standing in a kitchen preparing food.</td>\n",
       "      <td>a man standing in a kitchen holding a knife.</td>\n",
       "    </tr>\n",
       "    <tr>\n",
       "      <th>328</th>\n",
       "      <td>['Three men in military suits are sitting on a...</td>\n",
       "      <td>a group of three men sitting on top of a bench.</td>\n",
       "      <td>a group of people sitting on a bench</td>\n",
       "      <td>a black and white photo of a group of people s...</td>\n",
       "      <td>a black and white photo of a group of people s...</td>\n",
       "    </tr>\n",
       "    <tr>\n",
       "      <th>338</th>\n",
       "      <td>['Two people standing in a kitchen looking aro...</td>\n",
       "      <td>a couple of women standing in a kitchen next t...</td>\n",
       "      <td>a group of people standing in a kitchen</td>\n",
       "      <td>a woman standing in a kitchen next to a stove.</td>\n",
       "      <td>a woman standing in a kitchen next to a stove.</td>\n",
       "    </tr>\n",
       "    <tr>\n",
       "      <th>...</th>\n",
       "      <td>...</td>\n",
       "      <td>...</td>\n",
       "      <td>...</td>\n",
       "      <td>...</td>\n",
       "      <td>...</td>\n",
       "    </tr>\n",
       "    <tr>\n",
       "      <th>579902</th>\n",
       "      <td>['A person riding a motorcycle down a street.'...</td>\n",
       "      <td>a man riding a motorcycle down a street next t...</td>\n",
       "      <td>a man riding a motorcycle down a street</td>\n",
       "      <td>a man riding a motorcycle down a street.</td>\n",
       "      <td>a man riding a motorcycle down a street.</td>\n",
       "    </tr>\n",
       "    <tr>\n",
       "      <th>580197</th>\n",
       "      <td>['Two men in bow ties standing next to steel r...</td>\n",
       "      <td>a couple of men standing next to each other in...</td>\n",
       "      <td>a man in a suit and tie in a room</td>\n",
       "      <td>a man in a suit and tie standing next to a woman.</td>\n",
       "      <td>a man in a suit and tie standing next to anoth...</td>\n",
       "    </tr>\n",
       "    <tr>\n",
       "      <th>580294</th>\n",
       "      <td>['Person cooking an eggs on a black pot on a s...</td>\n",
       "      <td>a woman in a kitchen making pancakes on a stove.</td>\n",
       "      <td>a woman is preparing food in a kitchen</td>\n",
       "      <td>a woman standing in a kitchen preparing food.</td>\n",
       "      <td>a woman standing in a kitchen preparing food.</td>\n",
       "    </tr>\n",
       "    <tr>\n",
       "      <th>581317</th>\n",
       "      <td>['A woman holding a small item in a field.', '...</td>\n",
       "      <td>a woman standing in a field looking at her cel...</td>\n",
       "      <td>a woman in a field with a cell phone</td>\n",
       "      <td>a woman standing in a field with a frisbee.</td>\n",
       "      <td>a woman is standing in the grass talking on a ...</td>\n",
       "    </tr>\n",
       "    <tr>\n",
       "      <th>581357</th>\n",
       "      <td>['Skate boarder hang time with young man appea...</td>\n",
       "      <td>a man flying through the air while riding a sk...</td>\n",
       "      <td>a man flying through the air while riding a sk...</td>\n",
       "      <td>a man riding a skateboard up the side of a ramp.</td>\n",
       "      <td>a man riding a skateboard up the side of a ramp.</td>\n",
       "    </tr>\n",
       "  </tbody>\n",
       "</table>\n",
       "<p>10780 rows × 5 columns</p>\n",
       "</div>"
      ],
      "text/plain": [
       "                                             caption_list  \\\n",
       "img_id                                                      \n",
       "192     ['A group of baseball players is crowded at th...   \n",
       "241     ['a man standing holding a game controller and...   \n",
       "294     ['A man standing in front of a microwave next ...   \n",
       "328     ['Three men in military suits are sitting on a...   \n",
       "338     ['Two people standing in a kitchen looking aro...   \n",
       "...                                                   ...   \n",
       "579902  ['A person riding a motorcycle down a street.'...   \n",
       "580197  ['Two men in bow ties standing next to steel r...   \n",
       "580294  ['Person cooking an eggs on a black pot on a s...   \n",
       "581317  ['A woman holding a small item in a field.', '...   \n",
       "581357  ['Skate boarder hang time with young man appea...   \n",
       "\n",
       "                                               pred_oscar  \\\n",
       "img_id                                                      \n",
       "192     a baseball player holding a bat on top of a fi...   \n",
       "241     a man standing in a living room holding a nint...   \n",
       "294     a man standing in front of a bunch of pots and...   \n",
       "328       a group of three men sitting on top of a bench.   \n",
       "338     a couple of women standing in a kitchen next t...   \n",
       "...                                                   ...   \n",
       "579902  a man riding a motorcycle down a street next t...   \n",
       "580197  a couple of men standing next to each other in...   \n",
       "580294   a woman in a kitchen making pancakes on a stove.   \n",
       "581317  a woman standing in a field looking at her cel...   \n",
       "581357  a man flying through the air while riding a sk...   \n",
       "\n",
       "                                                 pred_sat  \\\n",
       "img_id                                                      \n",
       "192     a batter catcher and umpire during a baseball ...   \n",
       "241      a couple of people that are playing a video game   \n",
       "294             a woman is pouring wine into a wine glass   \n",
       "328                  a group of people sitting on a bench   \n",
       "338               a group of people standing in a kitchen   \n",
       "...                                                   ...   \n",
       "579902            a man riding a motorcycle down a street   \n",
       "580197                  a man in a suit and tie in a room   \n",
       "580294             a woman is preparing food in a kitchen   \n",
       "581317               a woman in a field with a cell phone   \n",
       "581357  a man flying through the air while riding a sk...   \n",
       "\n",
       "                                             pred_nicplus  \\\n",
       "img_id                                                      \n",
       "192     a baseball player holding a bat on top of a fi...   \n",
       "241     a group of people playing a game with nintendo...   \n",
       "294         a woman standing in a kitchen preparing food.   \n",
       "328     a black and white photo of a group of people s...   \n",
       "338        a woman standing in a kitchen next to a stove.   \n",
       "...                                                   ...   \n",
       "579902           a man riding a motorcycle down a street.   \n",
       "580197  a man in a suit and tie standing next to a woman.   \n",
       "580294      a woman standing in a kitchen preparing food.   \n",
       "581317        a woman standing in a field with a frisbee.   \n",
       "581357   a man riding a skateboard up the side of a ramp.   \n",
       "\n",
       "                                               pred_niceq  \n",
       "img_id                                                     \n",
       "192           a baseball player holding a bat on a field.  \n",
       "241               a group of people playing a video game.  \n",
       "294          a man standing in a kitchen holding a knife.  \n",
       "328     a black and white photo of a group of people s...  \n",
       "338        a woman standing in a kitchen next to a stove.  \n",
       "...                                                   ...  \n",
       "579902           a man riding a motorcycle down a street.  \n",
       "580197  a man in a suit and tie standing next to anoth...  \n",
       "580294      a woman standing in a kitchen preparing food.  \n",
       "581317  a woman is standing in the grass talking on a ...  \n",
       "581357   a man riding a skateboard up the side of a ramp.  \n",
       "\n",
       "[10780 rows x 5 columns]"
      ]
     },
     "execution_count": 9,
     "metadata": {},
     "output_type": "execute_result"
    }
   ],
   "source": [
    "df = pd.read_csv('IntersectionSAT-OSCAR-NICPL-NICEQ.csv', index_col='img_id')\n",
    "df"
   ]
  },
  {
   "cell_type": "code",
   "execution_count": 10,
   "id": "8f8071fa",
   "metadata": {},
   "outputs": [],
   "source": [
    "src_dir = 'merged_coco'\n",
    "dst_dir = f'reduced_coco_{len(df)}'\n",
    "\n",
    "if not os.path.exists(dst_dir):\n",
    "    os.makedirs(dst_dir)"
   ]
  },
  {
   "cell_type": "code",
   "execution_count": 11,
   "id": "97d184f1",
   "metadata": {},
   "outputs": [
    {
     "data": {
      "text/plain": [
       "array([   192,    241,    294, ..., 580294, 581317, 581357])"
      ]
     },
     "execution_count": 11,
     "metadata": {},
     "output_type": "execute_result"
    }
   ],
   "source": [
    "df.index.values"
   ]
  },
  {
   "cell_type": "code",
   "execution_count": 12,
   "id": "c2043caa",
   "metadata": {
    "scrolled": true
   },
   "outputs": [
    {
     "name": "stderr",
     "output_type": "stream",
     "text": [
      "100%|███████████████████████████████████████████| 1/1 [00:00<00:00, 9300.01it/s]\n"
     ]
    }
   ],
   "source": [
    "for filename in tqdm(os.listdir(src_dir)):\n",
    "    id_ = int(filename.split('.')[0])\n",
    "\n",
    "    if id_ in df.index.values:\n",
    "        src = os.path.join(src_dir, filename)\n",
    "        dst = os.path.join(dst_dir, filename)\n",
    "        \n",
    "        shutil.copyfile(src, dst)  # copy if you want to keep the previous dataset\n",
    "        # shutil.move(src, dst)  # move to save space"
   ]
  },
  {
   "cell_type": "code",
   "execution_count": 13,
   "id": "7cf43549",
   "metadata": {},
   "outputs": [
    {
     "name": "stdout",
     "output_type": "stream",
     "text": [
      "reduced_coco_10780 0\n"
     ]
    }
   ],
   "source": [
    "print(dst_dir, len(os.listdir(dst_dir)))"
   ]
  },
  {
   "cell_type": "markdown",
   "id": "cec7fa5a",
   "metadata": {},
   "source": [
    "### Remove temporal `merged_coco` folder"
   ]
  },
  {
   "cell_type": "code",
   "execution_count": 14,
   "id": "2e851bf5",
   "metadata": {},
   "outputs": [],
   "source": [
    "# shutil.rmtree(src_dir)"
   ]
  },
  {
   "cell_type": "code",
   "execution_count": null,
   "id": "a5634a3d",
   "metadata": {},
   "outputs": [],
   "source": []
  }
 ],
 "metadata": {
  "kernelspec": {
   "display_name": "Python 3 (ipykernel)",
   "language": "python",
   "name": "python3"
  },
  "language_info": {
   "codemirror_mode": {
    "name": "ipython",
    "version": 3
   },
   "file_extension": ".py",
   "mimetype": "text/x-python",
   "name": "python",
   "nbconvert_exporter": "python",
   "pygments_lexer": "ipython3",
   "version": "3.7.13"
  }
 },
 "nbformat": 4,
 "nbformat_minor": 5
}
